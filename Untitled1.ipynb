{
 "cells": [
  {
   "cell_type": "code",
   "execution_count": 1,
   "metadata": {},
   "outputs": [],
   "source": [
    "import tensorflow as tf\n",
    "\n",
    "def layer(scope_name, input, weight_shape, bias_shape):\n",
    "    weight_init = tf.random_uniform_initializer(minval=-1,maxval=1)\n",
    "    bias_init = tf.constant_initializer(value = 0)\n",
    "    with tf.variable_scope(scope_name,reuse = tf.AUTO_REUSE) as scope:\n",
    "        try:\n",
    "            w = tf.get_variable(\"W\", weight_shape,initializer = weight_init)\n",
    "            b = tf.get_variable(\"b\", bias_shape,initializer = bias_init)\n",
    "        except ValueError:\n",
    "            scope.reuse_variables()\n",
    "            w = tf.get_variable(\"W\", weight_shape,initializer = weight_init)\n",
    "            b = tf.get_variable(\"b\", bias_shape,initializer = bias_init)\n",
    "    print(\"printing name of weight\")\n",
    "    print(w.name)\n",
    "    print(\"printing name of bias\")\n",
    "    print(b.name)\n",
    "    return(tf.matmul(input, w)+b)\n",
    "\n",
    "def my_network(input):\n",
    "    output_1 = layer(\"layer_1\",input,[784,100],[100])\n",
    "    \n",
    "    output_2 = layer(\"layer_2\",output_1,[100,50],[50])\n",
    "    \n",
    "    output_3 = layer(\"layer_3\",output_2,[50,10],[10])\n",
    "        \n",
    "    return(output_3)\n",
    "\n",
    "i = tf.placeholder(tf.float32,[1000,784], name = \"i\")\n"
   ]
  },
  {
   "cell_type": "code",
   "execution_count": 2,
   "metadata": {},
   "outputs": [
    {
     "name": "stdout",
     "output_type": "stream",
     "text": [
      "printing name of weight\n",
      "layer_1/W:0\n",
      "printing name of bias\n",
      "layer_1/b:0\n",
      "printing name of weight\n",
      "layer_2/W:0\n",
      "printing name of bias\n",
      "layer_2/b:0\n",
      "printing name of weight\n",
      "layer_3/W:0\n",
      "printing name of bias\n",
      "layer_3/b:0\n"
     ]
    },
    {
     "data": {
      "text/plain": [
       "<tf.Tensor 'add_2:0' shape=(1000, 10) dtype=float32>"
      ]
     },
     "execution_count": 2,
     "metadata": {},
     "output_type": "execute_result"
    }
   ],
   "source": [
    "my_network(i)"
   ]
  },
  {
   "cell_type": "code",
   "execution_count": 3,
   "metadata": {},
   "outputs": [],
   "source": [
    "i2 = tf.placeholder(tf.float32,[1000,784], name = \"i\")"
   ]
  },
  {
   "cell_type": "code",
   "execution_count": 4,
   "metadata": {},
   "outputs": [
    {
     "name": "stdout",
     "output_type": "stream",
     "text": [
      "printing name of weight\n",
      "layer_1/W:0\n",
      "printing name of bias\n",
      "layer_1/b:0\n",
      "printing name of weight\n",
      "layer_2/W:0\n",
      "printing name of bias\n",
      "layer_2/b:0\n",
      "printing name of weight\n",
      "layer_3/W:0\n",
      "printing name of bias\n",
      "layer_3/b:0\n"
     ]
    },
    {
     "data": {
      "text/plain": [
       "<tf.Tensor 'add_5:0' shape=(1000, 10) dtype=float32>"
      ]
     },
     "execution_count": 4,
     "metadata": {},
     "output_type": "execute_result"
    }
   ],
   "source": [
    "my_network(i2)"
   ]
  },
  {
   "cell_type": "code",
   "execution_count": null,
   "metadata": {},
   "outputs": [],
   "source": []
  }
 ],
 "metadata": {
  "kernelspec": {
   "display_name": "Python 3",
   "language": "python",
   "name": "python3"
  },
  "language_info": {
   "codemirror_mode": {
    "name": "ipython",
    "version": 3
   },
   "file_extension": ".py",
   "mimetype": "text/x-python",
   "name": "python",
   "nbconvert_exporter": "python",
   "pygments_lexer": "ipython3",
   "version": "3.5.2"
  }
 },
 "nbformat": 4,
 "nbformat_minor": 2
}
